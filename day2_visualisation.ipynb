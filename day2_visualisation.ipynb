{
  "nbformat": 4,
  "nbformat_minor": 0,
  "metadata": {
    "colab": {
      "name": "day2_visualisation.ipynb",
      "provenance": [],
      "collapsed_sections": [],
      "mount_file_id": "1CxQnxj_SILT2z6-S3xAUp8qdwtxZ7OaN",
      "authorship_tag": "ABX9TyMPOKF1nWG3kIXl78XV1aJh",
      "include_colab_link": true
    },
    "kernelspec": {
      "name": "python3",
      "display_name": "Python 3"
    }
  },
  "cells": [
    {
      "cell_type": "markdown",
      "metadata": {
        "id": "view-in-github",
        "colab_type": "text"
      },
      "source": [
        "<a href=\"https://colab.research.google.com/github/pattom72/dw_matrix_car/blob/master/day2_visualisation.ipynb\" target=\"_parent\"><img src=\"https://colab.research.google.com/assets/colab-badge.svg\" alt=\"Open In Colab\"/></a>"
      ]
    },
    {
      "cell_type": "code",
      "metadata": {
        "id": "tn3ttZO3M0UP",
        "colab_type": "code",
        "colab": {}
      },
      "source": [
        "#!pip install --upgrade tables"
      ],
      "execution_count": 0,
      "outputs": []
    },
    {
      "cell_type": "code",
      "metadata": {
        "id": "EZg6GxvvLHTF",
        "colab_type": "code",
        "colab": {}
      },
      "source": [
        "import pandas as pd\n",
        "import numpy as np\n",
        "import matplotlib.pyplot as plt\n",
        "import seaborn as sns"
      ],
      "execution_count": 0,
      "outputs": []
    },
    {
      "cell_type": "code",
      "metadata": {
        "id": "eXp9CFp0LTLW",
        "colab_type": "code",
        "outputId": "74ade32a-5852-4ab6-823b-9abc6383e705",
        "colab": {
          "base_uri": "https://localhost:8080/",
          "height": 36
        }
      },
      "source": [
        "cd \"/content/drive/My Drive/Colab Notebooks/dw_matrix/matrix_two\""
      ],
      "execution_count": 0,
      "outputs": [
        {
          "output_type": "stream",
          "text": [
            "/content/drive/My Drive/Colab Notebooks/dw_matrix/matrix_two\n"
          ],
          "name": "stdout"
        }
      ]
    },
    {
      "cell_type": "code",
      "metadata": {
        "id": "DE28UHzTLMYO",
        "colab_type": "code",
        "outputId": "fe0d2dee-8907-43d2-b555-6c4610692791",
        "colab": {
          "base_uri": "https://localhost:8080/",
          "height": 36
        }
      },
      "source": [
        "df = pd.read_hdf('data/car.h5') \n",
        "df.shape"
      ],
      "execution_count": 0,
      "outputs": [
        {
          "output_type": "execute_result",
          "data": {
            "text/plain": [
              "(106494, 155)"
            ]
          },
          "metadata": {
            "tags": []
          },
          "execution_count": 3
        }
      ]
    },
    {
      "cell_type": "code",
      "metadata": {
        "id": "N4Qz3SroLNOI",
        "colab_type": "code",
        "outputId": "261bcfb8-333d-458a-9f29-0c950a370054",
        "colab": {
          "base_uri": "https://localhost:8080/",
          "height": 672
        }
      },
      "source": [
        "df.head()"
      ],
      "execution_count": 0,
      "outputs": [
        {
          "output_type": "execute_result",
          "data": {
            "text/html": [
              "<div>\n",
              "<style scoped>\n",
              "    .dataframe tbody tr th:only-of-type {\n",
              "        vertical-align: middle;\n",
              "    }\n",
              "\n",
              "    .dataframe tbody tr th {\n",
              "        vertical-align: top;\n",
              "    }\n",
              "\n",
              "    .dataframe thead th {\n",
              "        text-align: right;\n",
              "    }\n",
              "</style>\n",
              "<table border=\"1\" class=\"dataframe\">\n",
              "  <thead>\n",
              "    <tr style=\"text-align: right;\">\n",
              "      <th></th>\n",
              "      <th>breadcrumb</th>\n",
              "      <th>created_at</th>\n",
              "      <th>price_currency</th>\n",
              "      <th>price_details</th>\n",
              "      <th>price_value</th>\n",
              "      <th>seller_address</th>\n",
              "      <th>seller_name</th>\n",
              "      <th>seller_type</th>\n",
              "      <th>feature_czujniki-parkowania-przednie</th>\n",
              "      <th>feature_poduszka-powietrzna-chroniąca-kolana</th>\n",
              "      <th>feature_kurtyny-powietrzne</th>\n",
              "      <th>feature_klimatyzacja-dwustrefowa</th>\n",
              "      <th>feature_światła-led</th>\n",
              "      <th>feature_czujnik-zmierzchu</th>\n",
              "      <th>feature_elektrycznie-ustawiane-lusterka</th>\n",
              "      <th>feature_asr-(kontrola-trakcji)</th>\n",
              "      <th>feature_poduszka-powietrzna-kierowcy</th>\n",
              "      <th>feature_cd</th>\n",
              "      <th>feature_elektryczne-szyby-przednie</th>\n",
              "      <th>feature_poduszka-powietrzna-pasażera</th>\n",
              "      <th>feature_system-start-stop</th>\n",
              "      <th>feature_światła-do-jazdy-dziennej</th>\n",
              "      <th>feature_komputer-pokładowy</th>\n",
              "      <th>feature_elektryczne-szyby-tylne</th>\n",
              "      <th>feature_klimatyzacja-manualna</th>\n",
              "      <th>feature_tapicerka-welurowa</th>\n",
              "      <th>feature_czujnik-deszczu</th>\n",
              "      <th>feature_światła-przeciwmgielne</th>\n",
              "      <th>feature_ogrzewanie-postojowe</th>\n",
              "      <th>feature_radio-niefabryczne</th>\n",
              "      <th>feature_regulowane-zawieszenie</th>\n",
              "      <th>feature_ogranicznik-prędkości</th>\n",
              "      <th>feature_zmieniarka-cd</th>\n",
              "      <th>feature_szyberdach</th>\n",
              "      <th>feature_isofix</th>\n",
              "      <th>feature_asystent-pasa-ruchu</th>\n",
              "      <th>feature_alufelgi</th>\n",
              "      <th>feature_bluetooth</th>\n",
              "      <th>feature_nawigacja-gps</th>\n",
              "      <th>feature_asystent-parkowania</th>\n",
              "      <th>...</th>\n",
              "      <th>param_particle-filter</th>\n",
              "      <th>param_zarejestrowany-w-polsce</th>\n",
              "      <th>param_oferta-od</th>\n",
              "      <th>param_moc</th>\n",
              "      <th>param_make</th>\n",
              "      <th>param_kraj-pochodzenia</th>\n",
              "      <th>param_engine-power</th>\n",
              "      <th>param_year</th>\n",
              "      <th>param_serwisowany-w-aso</th>\n",
              "      <th>param_rodzaj-paliwa</th>\n",
              "      <th>param_możliwość-finansowania</th>\n",
              "      <th>param_registered-in-poland</th>\n",
              "      <th>param_transmission</th>\n",
              "      <th>param_miesięczna-rata</th>\n",
              "      <th>param_kod-silnika</th>\n",
              "      <th>param_version</th>\n",
              "      <th>param_opłata-początkowa</th>\n",
              "      <th>param_model-pojazdu</th>\n",
              "      <th>param_pojemność-skokowa</th>\n",
              "      <th>param_kierownica-po-prawej-(anglik)</th>\n",
              "      <th>param_fuel-type</th>\n",
              "      <th>param_vat-free</th>\n",
              "      <th>param_acrylic</th>\n",
              "      <th>param_damaged</th>\n",
              "      <th>param_door-count</th>\n",
              "      <th>param_tuning</th>\n",
              "      <th>param_filtr-cząstek-stałych</th>\n",
              "      <th>param_nr-of-seats</th>\n",
              "      <th>param_kolor</th>\n",
              "      <th>param_engine-capacity</th>\n",
              "      <th>param_pearl</th>\n",
              "      <th>param_stan</th>\n",
              "      <th>param_wersja</th>\n",
              "      <th>param_emisja-co2</th>\n",
              "      <th>param_body-type</th>\n",
              "      <th>param_matowy</th>\n",
              "      <th>param_bezwypadkowy</th>\n",
              "      <th>param_akryl-(niemetalizowany)</th>\n",
              "      <th>param_monthly-payment-value</th>\n",
              "      <th>car_id</th>\n",
              "    </tr>\n",
              "  </thead>\n",
              "  <tbody>\n",
              "    <tr>\n",
              "      <th>0</th>\n",
              "      <td>[Osobowe, Dacia, Logan, Dacia Logan II (2012-)]</td>\n",
              "      <td>13:23, 5 marca 2018</td>\n",
              "      <td>PLN</td>\n",
              "      <td>Cena Brutto</td>\n",
              "      <td>45100.0</td>\n",
              "      <td>Krasne 7A - 36-007 Krasne, rzeszowski, Podkarp...</td>\n",
              "      <td>AUTO SPEKTRUM</td>\n",
              "      <td>Dealer</td>\n",
              "      <td>False</td>\n",
              "      <td>False</td>\n",
              "      <td>False</td>\n",
              "      <td>False</td>\n",
              "      <td>False</td>\n",
              "      <td>False</td>\n",
              "      <td>False</td>\n",
              "      <td>True</td>\n",
              "      <td>False</td>\n",
              "      <td>False</td>\n",
              "      <td>False</td>\n",
              "      <td>False</td>\n",
              "      <td>False</td>\n",
              "      <td>False</td>\n",
              "      <td>True</td>\n",
              "      <td>True</td>\n",
              "      <td>True</td>\n",
              "      <td>False</td>\n",
              "      <td>False</td>\n",
              "      <td>True</td>\n",
              "      <td>False</td>\n",
              "      <td>False</td>\n",
              "      <td>False</td>\n",
              "      <td>False</td>\n",
              "      <td>False</td>\n",
              "      <td>False</td>\n",
              "      <td>False</td>\n",
              "      <td>False</td>\n",
              "      <td>False</td>\n",
              "      <td>True</td>\n",
              "      <td>False</td>\n",
              "      <td>False</td>\n",
              "      <td>...</td>\n",
              "      <td>None</td>\n",
              "      <td>None</td>\n",
              "      <td>Firmy</td>\n",
              "      <td>90 KM</td>\n",
              "      <td>None</td>\n",
              "      <td>None</td>\n",
              "      <td>None</td>\n",
              "      <td>None</td>\n",
              "      <td>None</td>\n",
              "      <td>Benzyna+LPG</td>\n",
              "      <td>None</td>\n",
              "      <td>None</td>\n",
              "      <td>None</td>\n",
              "      <td>None</td>\n",
              "      <td>None</td>\n",
              "      <td>None</td>\n",
              "      <td>None</td>\n",
              "      <td>Logan</td>\n",
              "      <td>898 cm3</td>\n",
              "      <td>None</td>\n",
              "      <td>None</td>\n",
              "      <td>None</td>\n",
              "      <td>None</td>\n",
              "      <td>None</td>\n",
              "      <td>None</td>\n",
              "      <td>None</td>\n",
              "      <td>None</td>\n",
              "      <td>None</td>\n",
              "      <td>Inny kolor</td>\n",
              "      <td>None</td>\n",
              "      <td>None</td>\n",
              "      <td>Nowe</td>\n",
              "      <td>II (2012-)</td>\n",
              "      <td>None</td>\n",
              "      <td>None</td>\n",
              "      <td>None</td>\n",
              "      <td>Tak</td>\n",
              "      <td>None</td>\n",
              "      <td>None</td>\n",
              "      <td>0</td>\n",
              "    </tr>\n",
              "    <tr>\n",
              "      <th>2</th>\n",
              "      <td>[Osobowe, Peugeot, 3008, Peugeot 3008 I (2009-...</td>\n",
              "      <td>15:48, 5 marca 2018</td>\n",
              "      <td>PLN</td>\n",
              "      <td>Cena Brutto, Do negocjacji, Faktura VAT</td>\n",
              "      <td>28000.0</td>\n",
              "      <td>Tomaszów Mazowiecki, tomaszowski, Łódzkie</td>\n",
              "      <td>None</td>\n",
              "      <td>Osoba prywatna</td>\n",
              "      <td>False</td>\n",
              "      <td>False</td>\n",
              "      <td>False</td>\n",
              "      <td>True</td>\n",
              "      <td>False</td>\n",
              "      <td>False</td>\n",
              "      <td>True</td>\n",
              "      <td>True</td>\n",
              "      <td>True</td>\n",
              "      <td>True</td>\n",
              "      <td>True</td>\n",
              "      <td>True</td>\n",
              "      <td>False</td>\n",
              "      <td>False</td>\n",
              "      <td>True</td>\n",
              "      <td>False</td>\n",
              "      <td>False</td>\n",
              "      <td>False</td>\n",
              "      <td>False</td>\n",
              "      <td>False</td>\n",
              "      <td>False</td>\n",
              "      <td>False</td>\n",
              "      <td>False</td>\n",
              "      <td>False</td>\n",
              "      <td>False</td>\n",
              "      <td>False</td>\n",
              "      <td>False</td>\n",
              "      <td>False</td>\n",
              "      <td>True</td>\n",
              "      <td>False</td>\n",
              "      <td>False</td>\n",
              "      <td>False</td>\n",
              "      <td>...</td>\n",
              "      <td>None</td>\n",
              "      <td>Tak</td>\n",
              "      <td>Osoby prywatnej</td>\n",
              "      <td>115 KM</td>\n",
              "      <td>None</td>\n",
              "      <td>Polska</td>\n",
              "      <td>None</td>\n",
              "      <td>None</td>\n",
              "      <td>None</td>\n",
              "      <td>Diesel</td>\n",
              "      <td>None</td>\n",
              "      <td>None</td>\n",
              "      <td>None</td>\n",
              "      <td>None</td>\n",
              "      <td>None</td>\n",
              "      <td>None</td>\n",
              "      <td>None</td>\n",
              "      <td>3008</td>\n",
              "      <td>1 560 cm3</td>\n",
              "      <td>None</td>\n",
              "      <td>None</td>\n",
              "      <td>None</td>\n",
              "      <td>None</td>\n",
              "      <td>None</td>\n",
              "      <td>None</td>\n",
              "      <td>None</td>\n",
              "      <td>None</td>\n",
              "      <td>None</td>\n",
              "      <td>Czarny</td>\n",
              "      <td>None</td>\n",
              "      <td>None</td>\n",
              "      <td>Używane</td>\n",
              "      <td>I (2009-2016)</td>\n",
              "      <td>None</td>\n",
              "      <td>None</td>\n",
              "      <td>None</td>\n",
              "      <td>Tak</td>\n",
              "      <td>None</td>\n",
              "      <td>None</td>\n",
              "      <td>2</td>\n",
              "    </tr>\n",
              "    <tr>\n",
              "      <th>3</th>\n",
              "      <td>[Osobowe, Porsche, Cayenne, Porsche Cayenne II...</td>\n",
              "      <td>06:30, 4 marca 2018</td>\n",
              "      <td>PLN</td>\n",
              "      <td>Cena Netto, Do negocjacji, Faktura VAT</td>\n",
              "      <td>229500.0</td>\n",
              "      <td>Kępińska 24a - 63-640 Bralin, kępiński, Wielko...</td>\n",
              "      <td>P.W. GRIB</td>\n",
              "      <td>Dealer</td>\n",
              "      <td>True</td>\n",
              "      <td>True</td>\n",
              "      <td>True</td>\n",
              "      <td>True</td>\n",
              "      <td>True</td>\n",
              "      <td>True</td>\n",
              "      <td>True</td>\n",
              "      <td>True</td>\n",
              "      <td>True</td>\n",
              "      <td>True</td>\n",
              "      <td>True</td>\n",
              "      <td>True</td>\n",
              "      <td>True</td>\n",
              "      <td>True</td>\n",
              "      <td>True</td>\n",
              "      <td>True</td>\n",
              "      <td>False</td>\n",
              "      <td>False</td>\n",
              "      <td>True</td>\n",
              "      <td>True</td>\n",
              "      <td>True</td>\n",
              "      <td>False</td>\n",
              "      <td>True</td>\n",
              "      <td>True</td>\n",
              "      <td>True</td>\n",
              "      <td>True</td>\n",
              "      <td>True</td>\n",
              "      <td>False</td>\n",
              "      <td>True</td>\n",
              "      <td>True</td>\n",
              "      <td>True</td>\n",
              "      <td>True</td>\n",
              "      <td>...</td>\n",
              "      <td>None</td>\n",
              "      <td>None</td>\n",
              "      <td>Firmy</td>\n",
              "      <td>262 KM</td>\n",
              "      <td>None</td>\n",
              "      <td>Niemcy</td>\n",
              "      <td>None</td>\n",
              "      <td>None</td>\n",
              "      <td>Tak</td>\n",
              "      <td>Diesel</td>\n",
              "      <td>Tak</td>\n",
              "      <td>None</td>\n",
              "      <td>None</td>\n",
              "      <td>None</td>\n",
              "      <td>None</td>\n",
              "      <td>None</td>\n",
              "      <td>None</td>\n",
              "      <td>Cayenne</td>\n",
              "      <td>3 000 cm3</td>\n",
              "      <td>None</td>\n",
              "      <td>None</td>\n",
              "      <td>None</td>\n",
              "      <td>None</td>\n",
              "      <td>None</td>\n",
              "      <td>None</td>\n",
              "      <td>None</td>\n",
              "      <td>None</td>\n",
              "      <td>None</td>\n",
              "      <td>Czarny</td>\n",
              "      <td>None</td>\n",
              "      <td>None</td>\n",
              "      <td>Używane</td>\n",
              "      <td>II (2010-)</td>\n",
              "      <td>None</td>\n",
              "      <td>None</td>\n",
              "      <td>None</td>\n",
              "      <td>None</td>\n",
              "      <td>None</td>\n",
              "      <td>None</td>\n",
              "      <td>3</td>\n",
              "    </tr>\n",
              "    <tr>\n",
              "      <th>4</th>\n",
              "      <td>[Osobowe, Peugeot, 308, Peugeot 308 T7 (2008-2...</td>\n",
              "      <td>08:46, 3 marca 2018</td>\n",
              "      <td>PLN</td>\n",
              "      <td>Cena Brutto, Do negocjacji</td>\n",
              "      <td>19500.0</td>\n",
              "      <td>Limanowa, limanowski, Małopolskie</td>\n",
              "      <td>None</td>\n",
              "      <td>Osoba prywatna</td>\n",
              "      <td>False</td>\n",
              "      <td>False</td>\n",
              "      <td>False</td>\n",
              "      <td>False</td>\n",
              "      <td>False</td>\n",
              "      <td>True</td>\n",
              "      <td>True</td>\n",
              "      <td>True</td>\n",
              "      <td>True</td>\n",
              "      <td>True</td>\n",
              "      <td>True</td>\n",
              "      <td>True</td>\n",
              "      <td>False</td>\n",
              "      <td>False</td>\n",
              "      <td>True</td>\n",
              "      <td>True</td>\n",
              "      <td>False</td>\n",
              "      <td>False</td>\n",
              "      <td>True</td>\n",
              "      <td>True</td>\n",
              "      <td>False</td>\n",
              "      <td>False</td>\n",
              "      <td>False</td>\n",
              "      <td>False</td>\n",
              "      <td>False</td>\n",
              "      <td>False</td>\n",
              "      <td>True</td>\n",
              "      <td>False</td>\n",
              "      <td>True</td>\n",
              "      <td>False</td>\n",
              "      <td>False</td>\n",
              "      <td>False</td>\n",
              "      <td>...</td>\n",
              "      <td>None</td>\n",
              "      <td>Tak</td>\n",
              "      <td>Osoby prywatnej</td>\n",
              "      <td>110 KM</td>\n",
              "      <td>None</td>\n",
              "      <td>Polska</td>\n",
              "      <td>None</td>\n",
              "      <td>None</td>\n",
              "      <td>Tak</td>\n",
              "      <td>Diesel</td>\n",
              "      <td>None</td>\n",
              "      <td>None</td>\n",
              "      <td>None</td>\n",
              "      <td>None</td>\n",
              "      <td>None</td>\n",
              "      <td>None</td>\n",
              "      <td>None</td>\n",
              "      <td>308</td>\n",
              "      <td>1 560 cm3</td>\n",
              "      <td>None</td>\n",
              "      <td>None</td>\n",
              "      <td>None</td>\n",
              "      <td>None</td>\n",
              "      <td>None</td>\n",
              "      <td>None</td>\n",
              "      <td>None</td>\n",
              "      <td>None</td>\n",
              "      <td>None</td>\n",
              "      <td>Srebrny</td>\n",
              "      <td>None</td>\n",
              "      <td>None</td>\n",
              "      <td>Używane</td>\n",
              "      <td>T7 (2008-2013)</td>\n",
              "      <td>None</td>\n",
              "      <td>None</td>\n",
              "      <td>None</td>\n",
              "      <td>Tak</td>\n",
              "      <td>None</td>\n",
              "      <td>None</td>\n",
              "      <td>4</td>\n",
              "    </tr>\n",
              "    <tr>\n",
              "      <th>5</th>\n",
              "      <td>[Osobowe, Volkswagen, Golf, Volkswagen Golf VI...</td>\n",
              "      <td>20:00, 3 marca 2018</td>\n",
              "      <td>PLN</td>\n",
              "      <td>Cena Brutto, Faktura VAT</td>\n",
              "      <td>164900.0</td>\n",
              "      <td>Niciarniana 51/53 - 92-320 Łódź, Śródmieście (...</td>\n",
              "      <td>KROTOSKI-CICHY Niciarniana 51/53 oraz Dąbrowsk...</td>\n",
              "      <td>Dealer</td>\n",
              "      <td>True</td>\n",
              "      <td>True</td>\n",
              "      <td>True</td>\n",
              "      <td>False</td>\n",
              "      <td>True</td>\n",
              "      <td>True</td>\n",
              "      <td>True</td>\n",
              "      <td>True</td>\n",
              "      <td>True</td>\n",
              "      <td>True</td>\n",
              "      <td>True</td>\n",
              "      <td>True</td>\n",
              "      <td>False</td>\n",
              "      <td>True</td>\n",
              "      <td>True</td>\n",
              "      <td>True</td>\n",
              "      <td>False</td>\n",
              "      <td>False</td>\n",
              "      <td>True</td>\n",
              "      <td>False</td>\n",
              "      <td>False</td>\n",
              "      <td>False</td>\n",
              "      <td>False</td>\n",
              "      <td>False</td>\n",
              "      <td>False</td>\n",
              "      <td>True</td>\n",
              "      <td>True</td>\n",
              "      <td>True</td>\n",
              "      <td>True</td>\n",
              "      <td>True</td>\n",
              "      <td>True</td>\n",
              "      <td>False</td>\n",
              "      <td>...</td>\n",
              "      <td>None</td>\n",
              "      <td>Tak</td>\n",
              "      <td>Firmy</td>\n",
              "      <td>310 KM</td>\n",
              "      <td>None</td>\n",
              "      <td>Polska</td>\n",
              "      <td>None</td>\n",
              "      <td>None</td>\n",
              "      <td>Tak</td>\n",
              "      <td>Benzyna</td>\n",
              "      <td>None</td>\n",
              "      <td>None</td>\n",
              "      <td>None</td>\n",
              "      <td>None</td>\n",
              "      <td>None</td>\n",
              "      <td>None</td>\n",
              "      <td>None</td>\n",
              "      <td>Golf</td>\n",
              "      <td>1 984 cm3</td>\n",
              "      <td>None</td>\n",
              "      <td>None</td>\n",
              "      <td>None</td>\n",
              "      <td>None</td>\n",
              "      <td>None</td>\n",
              "      <td>None</td>\n",
              "      <td>None</td>\n",
              "      <td>None</td>\n",
              "      <td>None</td>\n",
              "      <td>Niebieski</td>\n",
              "      <td>None</td>\n",
              "      <td>None</td>\n",
              "      <td>Używane</td>\n",
              "      <td>VII (2012-)</td>\n",
              "      <td>None</td>\n",
              "      <td>None</td>\n",
              "      <td>None</td>\n",
              "      <td>Tak</td>\n",
              "      <td>None</td>\n",
              "      <td>None</td>\n",
              "      <td>5</td>\n",
              "    </tr>\n",
              "  </tbody>\n",
              "</table>\n",
              "<p>5 rows × 155 columns</p>\n",
              "</div>"
            ],
            "text/plain": [
              "                                          breadcrumb  ... car_id\n",
              "0    [Osobowe, Dacia, Logan, Dacia Logan II (2012-)]  ...      0\n",
              "2  [Osobowe, Peugeot, 3008, Peugeot 3008 I (2009-...  ...      2\n",
              "3  [Osobowe, Porsche, Cayenne, Porsche Cayenne II...  ...      3\n",
              "4  [Osobowe, Peugeot, 308, Peugeot 308 T7 (2008-2...  ...      4\n",
              "5  [Osobowe, Volkswagen, Golf, Volkswagen Golf VI...  ...      5\n",
              "\n",
              "[5 rows x 155 columns]"
            ]
          },
          "metadata": {
            "tags": []
          },
          "execution_count": 4
        }
      ]
    },
    {
      "cell_type": "code",
      "metadata": {
        "id": "jTXW0AfSNaZy",
        "colab_type": "code",
        "outputId": "2de22086-086e-4d28-e851-7827479fb624",
        "colab": {
          "base_uri": "https://localhost:8080/",
          "height": 206
        }
      },
      "source": [
        "df.columns"
      ],
      "execution_count": 0,
      "outputs": [
        {
          "output_type": "execute_result",
          "data": {
            "text/plain": [
              "Index(['breadcrumb', 'created_at', 'price_currency', 'price_details',\n",
              "       'price_value', 'seller_address', 'seller_name', 'seller_type',\n",
              "       'feature_czujniki-parkowania-przednie',\n",
              "       'feature_poduszka-powietrzna-chroniąca-kolana',\n",
              "       ...\n",
              "       'param_pearl', 'param_stan', 'param_wersja', 'param_emisja-co2',\n",
              "       'param_body-type', 'param_matowy', 'param_bezwypadkowy',\n",
              "       'param_akryl-(niemetalizowany)', 'param_monthly-payment-value',\n",
              "       'car_id'],\n",
              "      dtype='object', length=155)"
            ]
          },
          "metadata": {
            "tags": []
          },
          "execution_count": 6
        }
      ]
    },
    {
      "cell_type": "code",
      "metadata": {
        "id": "IyhAhWJwNeeB",
        "colab_type": "code",
        "outputId": "99b94da5-5235-4b23-ae9b-ccffa87f611a",
        "colab": {
          "base_uri": "https://localhost:8080/",
          "height": 284
        }
      },
      "source": [
        "df['price_value'].hist(bins = 100)"
      ],
      "execution_count": 0,
      "outputs": [
        {
          "output_type": "execute_result",
          "data": {
            "text/plain": [
              "<matplotlib.axes._subplots.AxesSubplot at 0x7fbee5766da0>"
            ]
          },
          "metadata": {
            "tags": []
          },
          "execution_count": 7
        },
        {
          "output_type": "display_data",
          "data": {
            "image/png": "[encoded data removed]",
            "text/plain": [
              "<Figure size 432x288 with 1 Axes>"
            ]
          },
          "metadata": {
            "tags": []
          }
        }
      ]
    },
    {
      "cell_type": "code",
      "metadata": {
        "id": "EBayvEb4Nrys",
        "colab_type": "code",
        "outputId": "baf212c1-6a07-444b-8100-cfbc990d0567",
        "colab": {
          "base_uri": "https://localhost:8080/",
          "height": 187
        }
      },
      "source": [
        "df['price_value'].describe()"
      ],
      "execution_count": 0,
      "outputs": [
        {
          "output_type": "execute_result",
          "data": {
            "text/plain": [
              "count    106494.000000\n",
              "mean      47534.137437\n",
              "std       66308.716918\n",
              "min         400.000000\n",
              "25%       13890.000000\n",
              "50%       25500.000000\n",
              "75%       52900.000000\n",
              "max      799900.000000\n",
              "Name: price_value, dtype: float64"
            ]
          },
          "metadata": {
            "tags": []
          },
          "execution_count": 8
        }
      ]
    },
    {
      "cell_type": "code",
      "metadata": {
        "id": "ovJcIfmlNxne",
        "colab_type": "code",
        "outputId": "040a5fd9-1e0c-441a-de42-013791c09311",
        "colab": {
          "base_uri": "https://localhost:8080/",
          "height": 338
        }
      },
      "source": [
        "df['param_marka-pojazdu'].unique()"
      ],
      "execution_count": 0,
      "outputs": [
        {
          "output_type": "execute_result",
          "data": {
            "text/plain": [
              "array(['Dacia', 'Peugeot', 'Porsche', 'Volkswagen', 'Škoda', 'Jeep',\n",
              "       'Renault', 'Opel', 'Volvo', 'Audi', 'BMW', 'Toyota', 'Kia',\n",
              "       'Hyundai', 'Citroën', 'Nissan', 'Daewoo', 'Fiat', 'Mercedes-Benz',\n",
              "       'Mini', 'Ford', 'Chevrolet', 'Infiniti', 'Suzuki', 'Lexus', 'Seat',\n",
              "       'Mitsubishi', 'SsangYong', 'Mazda', 'Alfa Romeo', 'Saab', 'Dodge',\n",
              "       'Jaguar', 'Honda', 'Smart', 'Land Rover', 'Chrysler',\n",
              "       'Aston Martin', 'Subaru', 'Piaggio', 'Daihatsu', 'Cadillac',\n",
              "       'Lada', 'Iveco', 'Lincoln', 'Inny', 'Lancia', 'Yugo', 'Pontiac',\n",
              "       'MG', 'Scion', None, 'Hummer', 'Polonez', 'Maybach', 'Maserati',\n",
              "       'Aixam', 'Bentley', 'Lamborghini', 'Isuzu', 'Gaz', 'Rover',\n",
              "       'Wartburg', 'Mercury', 'Ferrari', 'Oldsmobile', 'Rolls-Royce',\n",
              "       'Moskwicz', 'Ligier', 'Vauxhall', 'Tesla', 'Microcar', 'Acura',\n",
              "       'Buick', 'Tarpan', 'Uaz', 'McLaren', 'GMC', 'Warszawa', 'Morgan',\n",
              "       'Żuk', 'Tata', 'Brilliance', 'Triumph', 'Chatenet', 'Zastava',\n",
              "       'Wołga', 'Austin', 'Trabant', 'LTI', 'Gonow', 'Aro', 'Syrena',\n",
              "       'Autobianchi', 'Mahindra', 'Asia', 'Grecav', 'GWM', 'Zaporożec',\n",
              "       'Plymouth', 'Talbot'], dtype=object)"
            ]
          },
          "metadata": {
            "tags": []
          },
          "execution_count": 9
        }
      ]
    },
    {
      "cell_type": "code",
      "metadata": {
        "id": "tQAbIQ4TN4sa",
        "colab_type": "code",
        "colab": {}
      },
      "source": [
        "def group_and_barplot(feat_groupby, feat_agg='price_value', agg_func=[np.mean, np.median, np.size], feat_sort='size', top=50, subplots=True):\n",
        "\n",
        "  (df\n",
        "      .groupby(feat_groupby)[feat_agg]\n",
        "      .agg(agg_func)\n",
        "      .sort_values(by=feat_sort, ascending=False)\n",
        "      .head(top)\n",
        "  ).plot(kind='bar', figsize=(15,10), subplots=subplots)"
      ],
      "execution_count": 0,
      "outputs": []
    },
    {
      "cell_type": "code",
      "metadata": {
        "id": "ACWc2wJ1PKB9",
        "colab_type": "code",
        "outputId": "3a3a4ee2-95f0-428a-c87a-e7475c92eb85",
        "colab": {
          "base_uri": "https://localhost:8080/",
          "height": 689
        }
      },
      "source": [
        "group_and_barplot('param_marka-pojazdu');"
      ],
      "execution_count": 0,
      "outputs": [
        {
          "output_type": "display_data",
          "data": {
            "image/png": "[encoded data removed]",
            "text/plain": [
              "<Figure size 1080x720 with 3 Axes>"
            ]
          },
          "metadata": {
            "tags": []
          }
        }
      ]
    },
    {
      "cell_type": "code",
      "metadata": {
        "id": "tERWO2-BQxH3",
        "colab_type": "code",
        "outputId": "418f5b08-3a18-4f6f-e06d-510a9c105ea5",
        "colab": {
          "base_uri": "https://localhost:8080/",
          "height": 708
        }
      },
      "source": [
        "group_and_barplot('param_kraj-pochodzenia', feat_sort = 'size')"
      ],
      "execution_count": 0,
      "outputs": [
        {
          "output_type": "display_data",
          "data": {
            "image/png": "[encoded data removed]",
            "text/plain": [
              "<Figure size 1080x720 with 3 Axes>"
            ]
          },
          "metadata": {
            "tags": []
          }
        }
      ]
    },
    {
      "cell_type": "code",
      "metadata": {
        "id": "mdiCzWaaQ6-8",
        "colab_type": "code",
        "outputId": "d5b94daf-6ec8-43d3-cc7e-84610837142a",
        "colab": {
          "base_uri": "https://localhost:8080/",
          "height": 662
        }
      },
      "source": [
        "group_and_barplot('param_kolor', feat_sort = 'mean')"
      ],
      "execution_count": 0,
      "outputs": [
        {
          "output_type": "display_data",
          "data": {
            "image/png": "[encoded data removed]",
            "text/plain": [
              "<Figure size 1080x720 with 3 Axes>"
            ]
          },
          "metadata": {
            "tags": []
          }
        }
      ]
    },
    {
      "cell_type": "code",
      "metadata": {
        "id": "YyZifE18RIkt",
        "colab_type": "code",
        "colab": {}
      },
      "source": [
        ""
      ],
      "execution_count": 0,
      "outputs": []
    }
  ]
}